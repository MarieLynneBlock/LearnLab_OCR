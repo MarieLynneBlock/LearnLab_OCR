{
 "cells": [
  {
   "cell_type": "code",
   "execution_count": null,
   "metadata": {},
   "outputs": [],
   "source": []
  }
 ],
 "metadata": {
  "kernelspec": {
   "display_name": "learnlab-ocr",
   "language": "python",
   "name": "python3"
  },
  "language_info": {
   "name": "python",
   "version": "3.11.8 (main, Feb 26 2024, 15:36:12) [Clang 14.0.6 ]"
  },
  "orig_nbformat": 4,
  "vscode": {
   "interpreter": {
    "hash": "396bbf44cacc38cd067ef071819852443a347708b9edb8ad66378a10121514da"
   }
  }
 },
 "nbformat": 4,
 "nbformat_minor": 2
}
